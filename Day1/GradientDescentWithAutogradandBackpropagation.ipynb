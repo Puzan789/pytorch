{
 "cells": [
  {
   "cell_type": "code",
   "execution_count": 1,
   "metadata": {},
   "outputs": [],
   "source": [
    "import numpy as np"
   ]
  },
  {
   "cell_type": "code",
   "execution_count": 8,
   "metadata": {},
   "outputs": [
    {
     "name": "stdout",
     "output_type": "stream",
     "text": [
      "prediction before training : f(5)=0.0\n",
      "epoch 1/10, loss=30.0, w=1.2\n",
      "epoch 3/10, loss=0.7680001854896545, w=1.871999988555908\n",
      "epoch 5/10, loss=0.019660834223031998, w=1.9795200133323667\n",
      "epoch 7/10, loss=0.0005033080233260989, w=1.9967231869697568\n",
      "epoch 9/10, loss=1.2884394891443662e-05, w=1.999475698471069\n",
      "prediction after training : f(5)=10.0\n"
     ]
    }
   ],
   "source": [
    "# f=w*x\n",
    "#f=2*x\n",
    "X=np.array([1,2,3,4],dtype=np.float32)\n",
    "y=np.array([2,4,6,8],dtype=np.float32)\n",
    "w=0.0\n",
    "\n",
    "#model prediction\n",
    "\n",
    "def forward(x):\n",
    "    return w*x\n",
    "\n",
    "def loss(y,y_predicted):\n",
    "    return ((y_predicted-y)**2).mean()\n",
    "\n",
    "#gradient\n",
    "\n",
    "def gradient(x,y,y_predicted):\n",
    "    return np.dot(2*x,y_predicted-y).mean()\n",
    "  \n",
    "\n",
    "\n",
    "print(f'prediction before training : f(5)={forward(5)}')\n",
    "#Training\n",
    "lr=0.01\n",
    "n_iters=10\n",
    "for epoch in range(n_iters):\n",
    "    #prediction\n",
    "    y_predicted=forward(X)\n",
    "    #loss\n",
    "    l=loss(y,y_predicted)\n",
    "    #gradient\n",
    "    dw=gradient(X,y,y_predicted)\n",
    "    #update weight\n",
    "    w-=lr*dw\n",
    "    if epoch%2==0:\n",
    "        print(f'epoch {epoch+1}/{n_iters}, loss={l}, w={w}')\n",
    "print(f'prediction after training : f(5)={forward(5):.1f}')"
   ]
  },
  {
   "cell_type": "code",
   "execution_count": 11,
   "metadata": {},
   "outputs": [
    {
     "name": "stdout",
     "output_type": "stream",
     "text": [
      "prediction before training : f(5)=0.0\n",
      "epoch 1/50, loss=30.0, w=0.29999998211860657\n",
      "epoch 3/50, loss=15.660187721252441, w=0.7717499136924744\n",
      "epoch 5/50, loss=8.17471694946289, w=1.1125893592834473\n",
      "epoch 7/50, loss=4.2672529220581055, w=1.358845829963684\n",
      "epoch 9/50, loss=2.227532148361206, w=1.5367661714553833\n",
      "epoch 11/50, loss=1.1627856492996216, w=1.6653136014938354\n",
      "epoch 13/50, loss=0.6069811582565308, w=1.758189082145691\n",
      "epoch 15/50, loss=0.3168478012084961, w=1.825291633605957\n",
      "epoch 17/50, loss=0.1653965264558792, w=1.873773217201233\n",
      "epoch 19/50, loss=0.08633805811405182, w=1.9088011980056763\n",
      "epoch 21/50, loss=0.0450688973069191, w=1.934108853340149\n",
      "epoch 23/50, loss=0.02352631464600563, w=1.952393651008606\n",
      "epoch 25/50, loss=0.012280836701393127, w=1.9656044244766235\n",
      "epoch 27/50, loss=0.0064106592908501625, w=1.9751492738723755\n",
      "epoch 29/50, loss=0.0033464201260358095, w=1.982045292854309\n",
      "epoch 31/50, loss=0.0017468547448515892, w=1.987027645111084\n",
      "epoch 33/50, loss=0.0009118800517171621, w=1.9906275272369385\n",
      "epoch 35/50, loss=0.0004760062729474157, w=1.9932283163070679\n",
      "epoch 37/50, loss=0.0002484779979567975, w=1.9951075315475464\n",
      "epoch 39/50, loss=0.00012970640091225505, w=1.9964652061462402\n",
      "epoch 41/50, loss=6.770494655938819e-05, w=1.9974461793899536\n",
      "epoch 43/50, loss=3.5343608033144847e-05, w=1.998154878616333\n",
      "epoch 45/50, loss=1.844714643084444e-05, w=1.9986668825149536\n",
      "epoch 47/50, loss=9.631531611375976e-06, w=1.9990367889404297\n",
      "epoch 49/50, loss=5.027383849665057e-06, w=1.9993040561676025\n",
      "prediction after training : f(5)=10.0\n"
     ]
    }
   ],
   "source": [
    "#replacing gradient calculation \n",
    "# f=w*x\n",
    "#f=2*x\n",
    "import torch\n",
    "X=torch.tensor([1,2,3,4],dtype=torch.float32)\n",
    "y=torch.tensor([2,4,6,8],dtype=torch.float32)\n",
    "w=torch.tensor(0.0,dtype=torch.float32,requires_grad=True)\n",
    "\n",
    "#model prediction\n",
    "\n",
    "def forward(x):\n",
    "    return w*x\n",
    "\n",
    "def loss(y,y_predicted):\n",
    "    return ((y_predicted-y)**2).mean()\n",
    "\n",
    "\n",
    "  \n",
    "\n",
    "\n",
    "print(f'prediction before training : f(5)={forward(5)}')\n",
    "#Training\n",
    "lr=0.01\n",
    "n_iters=50\n",
    "for epoch in range(n_iters):\n",
    "    #prediction\n",
    "    y_predicted=forward(X)\n",
    "    #loss\n",
    "    l=loss(y,y_predicted)\n",
    "    #gradient=backwardpass \n",
    "    l.backward()\n",
    "    #update weights\n",
    "    with torch.no_grad():\n",
    "        w-=lr*w.grad\n",
    "    w.grad.zero_()  # zero the gradients after updating weights to avoid accumulation of gradients from previous epoch  # important for the next epoch.\n",
    "\n",
    "    if epoch%2==0:\n",
    "        print(f'epoch {epoch+1}/{n_iters}, loss={l}, w={w}')\n",
    "print(f'prediction after training : f(5)={forward(5):.1f}')"
   ]
  },
  {
   "cell_type": "code",
   "execution_count": null,
   "metadata": {},
   "outputs": [],
   "source": [
    "#1 . Design our model (input,ouput_size,foward_pass)\n",
    "#2. Construct Loss and optimizer\n",
    "#3. Training Loop\n",
    "# -Forward Pass \n",
    "# -Backward Pass \n",
    "# -update weights"
   ]
  },
  {
   "cell_type": "code",
   "execution_count": 12,
   "metadata": {},
   "outputs": [],
   "source": [
    "import torch \n",
    "import torch.nn as nn"
   ]
  },
  {
   "cell_type": "code",
   "execution_count": 13,
   "metadata": {},
   "outputs": [
    {
     "name": "stdout",
     "output_type": "stream",
     "text": [
      "prediction before training : f(5)=0.0\n",
      "epoch 1/50, loss=30.0, w=0.29999998211860657\n",
      "epoch 3/50, loss=15.660187721252441, w=0.7717499136924744\n",
      "epoch 5/50, loss=8.17471694946289, w=1.1125893592834473\n",
      "epoch 7/50, loss=4.2672529220581055, w=1.358845829963684\n",
      "epoch 9/50, loss=2.227532148361206, w=1.5367661714553833\n",
      "epoch 11/50, loss=1.1627856492996216, w=1.6653136014938354\n",
      "epoch 13/50, loss=0.6069811582565308, w=1.758189082145691\n",
      "epoch 15/50, loss=0.3168478012084961, w=1.825291633605957\n",
      "epoch 17/50, loss=0.1653965264558792, w=1.873773217201233\n",
      "epoch 19/50, loss=0.08633805811405182, w=1.9088011980056763\n",
      "epoch 21/50, loss=0.0450688973069191, w=1.934108853340149\n",
      "epoch 23/50, loss=0.02352631464600563, w=1.952393651008606\n",
      "epoch 25/50, loss=0.012280836701393127, w=1.9656044244766235\n",
      "epoch 27/50, loss=0.0064106592908501625, w=1.9751492738723755\n",
      "epoch 29/50, loss=0.0033464201260358095, w=1.982045292854309\n",
      "epoch 31/50, loss=0.0017468547448515892, w=1.987027645111084\n",
      "epoch 33/50, loss=0.0009118800517171621, w=1.9906275272369385\n",
      "epoch 35/50, loss=0.0004760062729474157, w=1.9932283163070679\n",
      "epoch 37/50, loss=0.0002484779979567975, w=1.9951075315475464\n",
      "epoch 39/50, loss=0.00012970640091225505, w=1.9964652061462402\n",
      "epoch 41/50, loss=6.770494655938819e-05, w=1.9974461793899536\n",
      "epoch 43/50, loss=3.5343608033144847e-05, w=1.998154878616333\n",
      "epoch 45/50, loss=1.844714643084444e-05, w=1.9986668825149536\n",
      "epoch 47/50, loss=9.631531611375976e-06, w=1.9990367889404297\n",
      "epoch 49/50, loss=5.027383849665057e-06, w=1.9993040561676025\n",
      "prediction after training : f(5)=10.0\n"
     ]
    }
   ],
   "source": [
    "#replacing gradient calculation \n",
    "# f=w*x\n",
    "#f=2*x\n",
    "import torch\n",
    "X=torch.tensor([1,2,3,4],dtype=torch.float32)\n",
    "y=torch.tensor([2,4,6,8],dtype=torch.float32)\n",
    "w=torch.tensor(0.0,dtype=torch.float32,requires_grad=True)\n",
    "\n",
    "#model prediction\n",
    "\n",
    "def forward(x):\n",
    "    return w*x\n",
    "\n",
    "print(f'prediction before training : f(5)={forward(5)}')\n",
    "#Training\n",
    "lr=0.01\n",
    "n_iters=50\n",
    "loss=nn.MSELoss()\n",
    "optimizer=torch.optim.SGD([w],lr=lr,)\n",
    "for epoch in range(n_iters):\n",
    "    #prediction\n",
    "    y_predicted=forward(X)\n",
    "    #loss\n",
    "    l=loss(y,y_predicted)\n",
    "    #gradient=backwardpass \n",
    "    l.backward()\n",
    "    #update weights\n",
    "    optimizer.step()\n",
    "    optimizer.zero_grad() # zero the gradients after updating weights to avoid accumulation of gradients from previous epoch  # important for the next epoch.\n",
    "\n",
    "    if epoch%2==0:\n",
    "        print(f'epoch {epoch+1}/{n_iters}, loss={l}, w={w}')\n",
    "print(f'prediction after training : f(5)={forward(5):.1f}')"
   ]
  },
  {
   "cell_type": "code",
   "execution_count": 42,
   "metadata": {},
   "outputs": [
    {
     "name": "stdout",
     "output_type": "stream",
     "text": [
      "4 1\n",
      "prediction before training : f(tensor([5.]))=tensor([-4.5452], grad_fn=<ViewBackward0>)\n",
      "epoch 1,: w=-0.310, loss=67.93379974\n",
      "epoch 3,: w=0.379, loss=32.71066284\n",
      "epoch 5,: w=0.857, loss=15.75181675\n",
      "epoch 7,: w=1.189, loss=7.58664703\n",
      "epoch 9,: w=1.419, loss=3.65534902\n",
      "epoch 11,: w=1.579, loss=1.76252365\n",
      "epoch 13,: w=1.690, loss=0.85115743\n",
      "epoch 15,: w=1.768, loss=0.41233349\n",
      "epoch 17,: w=1.821, loss=0.20102456\n",
      "epoch 19,: w=1.859, loss=0.09925579\n",
      "epoch 21,: w=1.885, loss=0.05022815\n",
      "epoch 23,: w=1.903, loss=0.02659379\n",
      "epoch 25,: w=1.915, loss=0.01518589\n",
      "epoch 27,: w=1.924, loss=0.00966493\n",
      "epoch 29,: w=1.931, loss=0.00697871\n",
      "epoch 31,: w=1.935, loss=0.00565766\n",
      "epoch 33,: w=1.938, loss=0.00499422\n",
      "epoch 35,: w=1.941, loss=0.00464773\n",
      "epoch 37,: w=1.942, loss=0.00445417\n",
      "epoch 39,: w=1.944, loss=0.00433453\n",
      "epoch 41,: w=1.945, loss=0.00425085\n",
      "epoch 43,: w=1.945, loss=0.00418474\n",
      "epoch 45,: w=1.946, loss=0.00412743\n",
      "epoch 47,: w=1.947, loss=0.00407465\n",
      "epoch 49,: w=1.947, loss=0.00402434\n",
      "epoch 51,: w=1.947, loss=0.00397553\n",
      "epoch 53,: w=1.948, loss=0.00392775\n",
      "epoch 55,: w=1.948, loss=0.00388074\n",
      "epoch 57,: w=1.949, loss=0.00383437\n",
      "epoch 59,: w=1.949, loss=0.00378861\n",
      "epoch 61,: w=1.949, loss=0.00374342\n",
      "epoch 63,: w=1.950, loss=0.00369879\n",
      "epoch 65,: w=1.950, loss=0.00365469\n",
      "epoch 67,: w=1.950, loss=0.00361111\n",
      "epoch 69,: w=1.950, loss=0.00356805\n",
      "epoch 71,: w=1.951, loss=0.00352551\n",
      "epoch 73,: w=1.951, loss=0.00348348\n",
      "epoch 75,: w=1.951, loss=0.00344195\n",
      "epoch 77,: w=1.952, loss=0.00340092\n",
      "epoch 79,: w=1.952, loss=0.00336037\n",
      "epoch 81,: w=1.952, loss=0.00332032\n",
      "epoch 83,: w=1.952, loss=0.00328074\n",
      "epoch 85,: w=1.953, loss=0.00324161\n",
      "epoch 87,: w=1.953, loss=0.00320297\n",
      "epoch 89,: w=1.953, loss=0.00316479\n",
      "epoch 91,: w=1.954, loss=0.00312706\n",
      "epoch 93,: w=1.954, loss=0.00308977\n",
      "epoch 95,: w=1.954, loss=0.00305294\n",
      "epoch 97,: w=1.954, loss=0.00301653\n",
      "epoch 99,: w=1.955, loss=0.00298058\n",
      "prediction after training : f(5.0)=9.9\n"
     ]
    }
   ],
   "source": [
    "# replacing manually impmeneted pytorch function with nn\n",
    "\n",
    "#replacing gradient calculation \n",
    "# f=w*x\n",
    "#f=2*x\n",
    "import torch\n",
    "X=torch.tensor([[1],[2],[3],[4]],dtype=torch.float32)\n",
    "y=torch.tensor([[2],[4],[6],[8]],dtype=torch.float32)\n",
    "\n",
    "n_sample,n_features =X.shape\n",
    "print(n_sample,n_features)\n",
    "input_size = n_features\n",
    "output_size = n_features\n",
    "\n",
    "# model=nn.Linear(input_size, output_size)\n",
    "class LinearRegression(nn.Module):\n",
    "    def __init__(self, input_size, output_size):\n",
    "        super().__init__()\n",
    "        self.linear=nn.Linear(input_size, output_size)\n",
    "\n",
    "    def forward(self, x):\n",
    "        return self.linear(x)\n",
    "    \n",
    "model=LinearRegression(input_size,output_size)\n",
    "\n",
    "x_test=torch.tensor([5],dtype=torch.float32)\n",
    "print(f'prediction before training : f({x_test})={model(x_test)}'.format())\n",
    "#Training\n",
    "lr=0.01\n",
    "n_iters=100\n",
    "loss=nn.MSELoss()\n",
    "optimizer=torch.optim.SGD(model.parameters(),lr=lr,)\n",
    "loss_value=[]\n",
    "for epoch in range(n_iters):\n",
    "    model.train()\n",
    "    #prediction\n",
    "    y_predicted=model(X)\n",
    "    #loss\n",
    "    l=loss(y,y_predicted)\n",
    "    loss_value.append(l.item())\n",
    "    #gradient=backwardpass \n",
    "    l.backward()\n",
    "    #update weights\n",
    "    optimizer.step()\n",
    "    optimizer.zero_grad() # zero the gradients after updating weights to avoid accumulation of gradients from previous epoch  # important for the next epoch.\n",
    "\n",
    "    if epoch%2==0:\n",
    "        [w,b]=model.parameters()\n",
    "        print(f'epoch {epoch+1},: w={w[0][0].item():.3f}, loss={l:.8f}')\n",
    "print(f'prediction after training : f({x_test[0]})={model(x_test).item():.1f}')"
   ]
  },
  {
   "cell_type": "code",
   "execution_count": 43,
   "metadata": {},
   "outputs": [
    {
     "name": "stdout",
     "output_type": "stream",
     "text": [
      "Training loss\n"
     ]
    },
    {
     "data": {
      "text/plain": [
       "[<matplotlib.lines.Line2D at 0x2774197f1a0>]"
      ]
     },
     "execution_count": 43,
     "metadata": {},
     "output_type": "execute_result"
    },
    {
     "data": {
      "image/png": "[encoded data removed]",
      "text/plain": [
       "<Figure size 640x480 with 1 Axes>"
      ]
     },
     "metadata": {},
     "output_type": "display_data"
    }
   ],
   "source": [
    "import matplotlib.pyplot as plt\n",
    "print(\"Training loss\")\n",
    "plt.plot(loss_value)"
   ]
  },
  {
   "cell_type": "code",
   "execution_count": null,
   "metadata": {},
   "outputs": [],
   "source": []
  }
 ],
 "metadata": {
  "kernelspec": {
   "display_name": "venv",
   "language": "python",
   "name": "python3"
  },
  "language_info": {
   "codemirror_mode": {
    "name": "ipython",
    "version": 3
   },
   "file_extension": ".py",
   "mimetype": "text/x-python",
   "name": "python",
   "nbconvert_exporter": "python",
   "pygments_lexer": "ipython3",
   "version": "3.12.4"
  }
 },
 "nbformat": 4,
 "nbformat_minor": 2
}
