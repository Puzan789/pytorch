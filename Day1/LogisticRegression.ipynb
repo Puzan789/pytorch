{
 "cells": [
  {
   "cell_type": "code",
   "execution_count": 5,
   "metadata": {},
   "outputs": [],
   "source": [
    "import torch\n",
    "import torch.nn as nn\n",
    "from sklearn import datasets\n",
    "import matplotlib.pyplot as plt \n",
    "from sklearn.preprocessing import StandardScaler\n",
    "from sklearn.model_selection import train_test_split\n",
    "import numpy as np"
   ]
  },
  {
   "cell_type": "code",
   "execution_count": 3,
   "metadata": {},
   "outputs": [
    {
     "name": "stdout",
     "output_type": "stream",
     "text": [
      "(569, 30)\n"
     ]
    }
   ],
   "source": [
    "# prepare datasets \n",
    "bc=datasets.load_breast_cancer()\n",
    "X,y=bc.data,bc.target\n",
    "\n",
    "n_samples,n_features=X.shape\n",
    "print(X.shape)"
   ]
  },
  {
   "cell_type": "code",
   "execution_count": 6,
   "metadata": {},
   "outputs": [],
   "source": [
    "x_train,x_test,y_train,y_test=train_test_split(X,y,test_size=0.2,random_state=1234)\n",
    "\n",
    "scaler=StandardScaler()\n",
    "x_train_scaled=scaler.fit_transform(x_train)\n",
    "x_test_scaled=scaler.transform(x_test)\n",
    "\n",
    "x_train=torch.from_numpy(x_train_scaled.astype(np.float32))\n",
    "x_test=torch.from_numpy(x_test_scaled.astype(np.float32))\n",
    "y_train=torch.from_numpy(y_train.astype(np.float32)).view(-1,1)\n",
    "y_test=torch.from_numpy(y_test.astype(np.float32)).view(-1,1)\n",
    "\n",
    "\n",
    "\n"
   ]
  },
  {
   "cell_type": "code",
   "execution_count": 8,
   "metadata": {},
   "outputs": [],
   "source": [
    "class LogisticModel(nn.Module):\n",
    "    def __init__(self,num_input_features):\n",
    "        super().__init__()\n",
    "        self.linear=nn.Linear(num_input_features,1)\n",
    "\n",
    "    def forward(self,x):\n",
    "        y_predicted=torch.sigmoid(self.linear(x))\n",
    "        return y_predicted\n",
    "\n",
    "model=LogisticModel(n_features)"
   ]
  },
  {
   "cell_type": "code",
   "execution_count": 9,
   "metadata": {},
   "outputs": [
    {
     "name": "stdout",
     "output_type": "stream",
     "text": [
      "Epoch =1,loss =0.7575235366821289\n",
      "Epoch =3,loss =0.7128876447677612\n",
      "Epoch =5,loss =0.6734931468963623\n",
      "Epoch =7,loss =0.6386793255805969\n",
      "Epoch =9,loss =0.6078243851661682\n",
      "Epoch =11,loss =0.5803694725036621\n",
      "Epoch =13,loss =0.5558277368545532\n",
      "Epoch =15,loss =0.5337834358215332\n",
      "Epoch =17,loss =0.5138853788375854\n",
      "Epoch =19,loss =0.4958389103412628\n",
      "Epoch =21,loss =0.4793969392776489\n",
      "Epoch =23,loss =0.46435242891311646\n",
      "Epoch =25,loss =0.4505307972431183\n",
      "Epoch =27,loss =0.4377850592136383\n",
      "Epoch =29,loss =0.42599013447761536\n",
      "Epoch =31,loss =0.4150397479534149\n",
      "Epoch =33,loss =0.4048424959182739\n",
      "Epoch =35,loss =0.39531993865966797\n",
      "Epoch =37,loss =0.38640421628952026\n",
      "Epoch =39,loss =0.3780360519886017\n",
      "Epoch =41,loss =0.37016409635543823\n",
      "Epoch =43,loss =0.36274299025535583\n",
      "Epoch =45,loss =0.3557329773902893\n",
      "Epoch =47,loss =0.3490987718105316\n",
      "Epoch =49,loss =0.3428092300891876\n",
      "Epoch =51,loss =0.33683645725250244\n",
      "Epoch =53,loss =0.3311556875705719\n",
      "Epoch =55,loss =0.32574462890625\n",
      "Epoch =57,loss =0.3205832242965698\n",
      "Epoch =59,loss =0.3156535029411316\n",
      "Epoch =61,loss =0.31093910336494446\n",
      "Epoch =63,loss =0.30642521381378174\n",
      "Epoch =65,loss =0.30209851264953613\n",
      "Epoch =67,loss =0.2979466915130615\n",
      "Epoch =69,loss =0.29395854473114014\n",
      "Epoch =71,loss =0.29012399911880493\n",
      "Epoch =73,loss =0.286433607339859\n",
      "Epoch =75,loss =0.2828787863254547\n",
      "Epoch =77,loss =0.2794516384601593\n",
      "Epoch =79,loss =0.27614492177963257\n",
      "Epoch =81,loss =0.2729518711566925\n",
      "Epoch =83,loss =0.2698662281036377\n",
      "Epoch =85,loss =0.2668823301792145\n",
      "Epoch =87,loss =0.2639947831630707\n",
      "Epoch =89,loss =0.26119861006736755\n",
      "Epoch =91,loss =0.258489191532135\n",
      "Epoch =93,loss =0.255862295627594\n",
      "Epoch =95,loss =0.2533138394355774\n",
      "Epoch =97,loss =0.25084006786346436\n",
      "Epoch =99,loss =0.2484375387430191\n"
     ]
    }
   ],
   "source": [
    "learning_rate=0.01\n",
    "n_iterations=100\n",
    "criterion=nn.BCELoss()\n",
    "optimizer=torch.optim.SGD(model.parameters(),lr=learning_rate)\n",
    "for epoch in range(n_iterations):\n",
    "    model.train()\n",
    "    y_predicted=model(x_train)\n",
    "    loss=criterion(y_predicted,y_train)\n",
    "    loss.backward()\n",
    "    optimizer.step()\n",
    "    optimizer.zero_grad()\n",
    "    if (epoch%2==0):\n",
    "        print(f'Epoch ={epoch+1},loss ={loss}')\n",
    "    \n"
   ]
  },
  {
   "cell_type": "code",
   "execution_count": 19,
   "metadata": {},
   "outputs": [],
   "source": [
    "predicted=model(x_test).detach()\n",
    "# detach gradient calculation is false\n",
    "y_predicted_cls=predicted.round()\n",
    "acc=y_predicted_cls.eq(y_test).sum()/float(y_test.shape[0])"
   ]
  },
  {
   "cell_type": "code",
   "execution_count": 20,
   "metadata": {},
   "outputs": [
    {
     "name": "stdout",
     "output_type": "stream",
     "text": [
      "accuracy = 0.9035087823867798\n"
     ]
    }
   ],
   "source": [
    "print(f'accuracy = {acc}')"
   ]
  },
  {
   "cell_type": "code",
   "execution_count": 22,
   "metadata": {},
   "outputs": [
    {
     "data": {
      "image/png": "[encoded data removed]",
      "text/plain": [
       "<Figure size 640x480 with 2 Axes>"
      ]
     },
     "metadata": {},
     "output_type": "display_data"
    }
   ],
   "source": [
    "from sklearn.metrics import classification_report,confusion_matrix,ConfusionMatrixDisplay\n",
    "cm = confusion_matrix(y_test,y_predicted_cls)\n",
    "\n",
    "# Display the confusion matrix using Matplotlib\n",
    "disp = ConfusionMatrixDisplay(confusion_matrix=cm)\n",
    "disp.plot(cmap=plt.cm.Blues)\n",
    "plt.title('Confusion Matrix')\n",
    "plt.show()"
   ]
  },
  {
   "cell_type": "code",
   "execution_count": null,
   "metadata": {},
   "outputs": [],
   "source": []
  }
 ],
 "metadata": {
  "kernelspec": {
   "display_name": "venv",
   "language": "python",
   "name": "python3"
  },
  "language_info": {
   "codemirror_mode": {
    "name": "ipython",
    "version": 3
   },
   "file_extension": ".py",
   "mimetype": "text/x-python",
   "name": "python",
   "nbconvert_exporter": "python",
   "pygments_lexer": "ipython3",
   "version": "3.12.4"
  }
 },
 "nbformat": 4,
 "nbformat_minor": 2
}
