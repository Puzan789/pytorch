{
 "cells": [
  {
   "cell_type": "code",
   "execution_count": 1,
   "metadata": {},
   "outputs": [],
   "source": [
    "import torch \n",
    "import torch.nn as nn\n",
    "import torch.functional as f\n",
    "import torchvision\n",
    "import torchvision.transforms as transforms\n",
    "import matplotlib.pyplot as plt \n",
    "from torch.utils.tensorboard import SummaryWriter\n",
    "writer=SummaryWriter(\"runs/mnist\")\n",
    "# device config\n",
    "\n",
    "\n",
    "device = torch.device('cuda' if torch.cuda.is_available() else 'cpu')"
   ]
  },
  {
   "cell_type": "code",
   "execution_count": 2,
   "metadata": {},
   "outputs": [
    {
     "name": "stdout",
     "output_type": "stream",
     "text": [
      "Downloading http://yann.lecun.com/exdb/mnist/train-images-idx3-ubyte.gz\n",
      "Failed to download (trying next):\n",
      "HTTP Error 403: Forbidden\n",
      "\n",
      "Downloading https://ossci-datasets.s3.amazonaws.com/mnist/train-images-idx3-ubyte.gz\n",
      "Downloading https://ossci-datasets.s3.amazonaws.com/mnist/train-images-idx3-ubyte.gz to ./data\\MNIST\\raw\\train-images-idx3-ubyte.gz\n"
     ]
    },
    {
     "name": "stderr",
     "output_type": "stream",
     "text": [
      "100.0%\n"
     ]
    },
    {
     "name": "stdout",
     "output_type": "stream",
     "text": [
      "Extracting ./data\\MNIST\\raw\\train-images-idx3-ubyte.gz to ./data\\MNIST\\raw\n",
      "\n",
      "Downloading http://yann.lecun.com/exdb/mnist/train-labels-idx1-ubyte.gz\n",
      "Failed to download (trying next):\n",
      "HTTP Error 403: Forbidden\n",
      "\n",
      "Downloading https://ossci-datasets.s3.amazonaws.com/mnist/train-labels-idx1-ubyte.gz\n",
      "Downloading https://ossci-datasets.s3.amazonaws.com/mnist/train-labels-idx1-ubyte.gz to ./data\\MNIST\\raw\\train-labels-idx1-ubyte.gz\n"
     ]
    },
    {
     "name": "stderr",
     "output_type": "stream",
     "text": [
      "100.0%\n"
     ]
    },
    {
     "name": "stdout",
     "output_type": "stream",
     "text": [
      "Extracting ./data\\MNIST\\raw\\train-labels-idx1-ubyte.gz to ./data\\MNIST\\raw\n",
      "\n",
      "Downloading http://yann.lecun.com/exdb/mnist/t10k-images-idx3-ubyte.gz\n",
      "Failed to download (trying next):\n",
      "HTTP Error 403: Forbidden\n",
      "\n",
      "Downloading https://ossci-datasets.s3.amazonaws.com/mnist/t10k-images-idx3-ubyte.gz\n",
      "Downloading https://ossci-datasets.s3.amazonaws.com/mnist/t10k-images-idx3-ubyte.gz to ./data\\MNIST\\raw\\t10k-images-idx3-ubyte.gz\n"
     ]
    },
    {
     "name": "stderr",
     "output_type": "stream",
     "text": [
      "100.0%\n"
     ]
    },
    {
     "name": "stdout",
     "output_type": "stream",
     "text": [
      "Extracting ./data\\MNIST\\raw\\t10k-images-idx3-ubyte.gz to ./data\\MNIST\\raw\n",
      "\n",
      "Downloading http://yann.lecun.com/exdb/mnist/t10k-labels-idx1-ubyte.gz\n",
      "Failed to download (trying next):\n",
      "HTTP Error 403: Forbidden\n",
      "\n",
      "Downloading https://ossci-datasets.s3.amazonaws.com/mnist/t10k-labels-idx1-ubyte.gz\n",
      "Downloading https://ossci-datasets.s3.amazonaws.com/mnist/t10k-labels-idx1-ubyte.gz to ./data\\MNIST\\raw\\t10k-labels-idx1-ubyte.gz\n"
     ]
    },
    {
     "name": "stderr",
     "output_type": "stream",
     "text": [
      "100.0%\n"
     ]
    },
    {
     "name": "stdout",
     "output_type": "stream",
     "text": [
      "Extracting ./data\\MNIST\\raw\\t10k-labels-idx1-ubyte.gz to ./data\\MNIST\\raw\n",
      "\n"
     ]
    }
   ],
   "source": [
    "# hyperparameters\n",
    "input_size=784 # 28*28\n",
    "hidden_size=128\n",
    "num_classes=10\n",
    "num_epochs=5\n",
    "batch_size=100\n",
    "learning_rate=0.001\n",
    "\n",
    "# Mnist Dataset \n",
    "train_dataset = torchvision.datasets.MNIST(root='./data',train=True,transform=transforms.ToTensor(),download=True)\n",
    "\n",
    "test_dataset = torchvision.datasets.MNIST(root='./data',train=False,transform=transforms.ToTensor())\n",
    "\n",
    "# Data Loader\n",
    "train_loader = torch.utils.data.DataLoader(dataset=train_dataset, batch_size=batch_size, shuffle=True)\n",
    "test_loader = torch.utils.data.DataLoader(dataset=test_dataset, batch_size=batch_size, shuffle=False)\n",
    "\n",
    "examples=iter(train_loader)\n"
   ]
  },
  {
   "cell_type": "code",
   "execution_count": 3,
   "metadata": {},
   "outputs": [
    {
     "name": "stdout",
     "output_type": "stream",
     "text": [
      "torch.Size([100, 1, 28, 28]) torch.Size([100])\n"
     ]
    }
   ],
   "source": [
    "samples,labels=next(examples)\n",
    "print(samples.shape, labels.shape)\n",
    "#batchsize 1 channelslike we donnt have color channels 28*28 size \n"
   ]
  },
  {
   "cell_type": "code",
   "execution_count": 4,
   "metadata": {},
   "outputs": [
    {
     "data": {
      "image/png": "[encoded data removed]",
      "text/plain": [
       "<Figure size 640x480 with 6 Axes>"
      ]
     },
     "metadata": {},
     "output_type": "display_data"
    }
   ],
   "source": [
    "for i in range(6):\n",
    "    plt.subplot(2,3,i+1)\n",
    "    plt.imshow(samples[i][0], cmap='gray')\n",
    "img_grid=torchvision.utils.make_grid(samples, labels)\n",
    "writer.add_image('mnist_images',img_grid)\n",
    "writer.close()"
   ]
  },
  {
   "cell_type": "code",
   "execution_count": 5,
   "metadata": {},
   "outputs": [
    {
     "name": "stdout",
     "output_type": "stream",
     "text": [
      "epoch [1/5], Step [100/600], Loss: 0.3657\n",
      "epoch [1/5], Step [200/600], Loss: 0.4056\n",
      "epoch [1/5], Step [300/600], Loss: 0.2536\n",
      "epoch [1/5], Step [400/600], Loss: 0.2267\n",
      "epoch [1/5], Step [500/600], Loss: 0.3302\n",
      "epoch [1/5], Step [600/600], Loss: 0.1803\n",
      "epoch [2/5], Step [100/600], Loss: 0.1548\n",
      "epoch [2/5], Step [200/600], Loss: 0.1621\n",
      "epoch [2/5], Step [300/600], Loss: 0.2581\n",
      "epoch [2/5], Step [400/600], Loss: 0.1926\n",
      "epoch [2/5], Step [500/600], Loss: 0.0933\n",
      "epoch [2/5], Step [600/600], Loss: 0.0955\n",
      "epoch [3/5], Step [100/600], Loss: 0.0549\n",
      "epoch [3/5], Step [200/600], Loss: 0.1851\n",
      "epoch [3/5], Step [300/600], Loss: 0.1150\n",
      "epoch [3/5], Step [400/600], Loss: 0.1621\n",
      "epoch [3/5], Step [500/600], Loss: 0.1359\n",
      "epoch [3/5], Step [600/600], Loss: 0.0922\n",
      "epoch [4/5], Step [100/600], Loss: 0.0797\n",
      "epoch [4/5], Step [200/600], Loss: 0.2305\n",
      "epoch [4/5], Step [300/600], Loss: 0.0821\n",
      "epoch [4/5], Step [400/600], Loss: 0.0612\n",
      "epoch [4/5], Step [500/600], Loss: 0.0799\n",
      "epoch [4/5], Step [600/600], Loss: 0.1119\n",
      "epoch [5/5], Step [100/600], Loss: 0.0501\n",
      "epoch [5/5], Step [200/600], Loss: 0.0446\n",
      "epoch [5/5], Step [300/600], Loss: 0.0789\n",
      "epoch [5/5], Step [400/600], Loss: 0.0629\n",
      "epoch [5/5], Step [500/600], Loss: 0.1568\n",
      "epoch [5/5], Step [600/600], Loss: 0.0269\n"
     ]
    }
   ],
   "source": [
    "class NeuralNetwork(nn.Module):\n",
    "    def __init__(self,input_size,hidden_size,num_classes):\n",
    "        super().__init__()\n",
    "        self.l1=nn.Linear(input_size,hidden_size)\n",
    "        self.relu=nn.ReLU()\n",
    "        self.l2=nn.Linear(hidden_size,num_classes)\n",
    "\n",
    "    def forward(self,x):\n",
    "        out=self.l1(x)\n",
    "        out=self.relu(out)\n",
    "        out=self.l2(out)\n",
    "        return out\n",
    "model=NeuralNetwork(input_size,hidden_size,num_classes)\n",
    "model=model.to(device)\n",
    "criterion=nn.CrossEntropyLoss()\n",
    "optimizer=torch.optim.Adam(model.parameters(),lr=learning_rate)\n",
    "writer.add_graph(model,example_data.reshape(-1,28*28))\n",
    "writer.close()\n",
    "n_total_Steps=len(train_loader)\n",
    "# Training loop\n",
    "for epoch in range(num_epochs):\n",
    "    for  i ,(images,labels) in enumerate (train_loader): #enumerate i contains index and images and labels are in train_loader\n",
    "        #100,1,28,28\n",
    "        # 100,784\n",
    "        images=images.reshape(-1,28*28).to(device)\n",
    "        labels=labels.to(device)\n",
    "        # forward pass\n",
    "        outputs=model(images)\n",
    "        loss=criterion(outputs,labels)\n",
    "        #backward pass \n",
    "        optimizer.zero_grad()\n",
    "        loss.backward()\n",
    "        optimizer.step()\n",
    "\n",
    "        if (i+1)%100==0:\n",
    "            print(f'epoch [{epoch+1}/{num_epochs}], Step [{i+1}/{n_total_Steps}], Loss: {loss.item():.4f}')\n",
    "            \n",
    "\n"
   ]
  },
  {
   "cell_type": "code",
   "execution_count": 6,
   "metadata": {},
   "outputs": [
    {
     "name": "stdout",
     "output_type": "stream",
     "text": [
      "Accuracy: 97.30%\n"
     ]
    }
   ],
   "source": [
    "from torchmetrics import Accuracy\n",
    "\n",
    "# Specify the number of classes in your dataset\n",
    "num_classes = 10  # Replace this with the actual number of classes in your dataset\n",
    "\n",
    "# Initialize the metric with the appropriate parameters\n",
    "accuracy_metric = Accuracy(task=\"multiclass\", num_classes=num_classes).to(device)\n",
    "\n",
    "# Test\n",
    "with torch.no_grad():\n",
    "    for images, labels in test_loader:\n",
    "        images = images.reshape(-1, 28 * 28).to(device)\n",
    "        labels = labels.to(device)\n",
    "        output = model(images)\n",
    "        # Calculate accuracy\n",
    "        accuracy_metric.update(output, labels)\n",
    "\n",
    "# Compute the final accuracy\n",
    "accuracy = accuracy_metric.compute().item()\n",
    "print(f\"Accuracy: {accuracy * 100:.2f}%\")\n"
   ]
  },
  {
   "cell_type": "code",
   "execution_count": 7,
   "metadata": {},
   "outputs": [
    {
     "name": "stderr",
     "output_type": "stream",
     "text": [
      "'pytorch' is not recognized as an internal or external command,\n",
      "operable program or batch file.\n"
     ]
    }
   ],
   "source": [
    "!pytorch tensorboard --logdir=runs"
   ]
  },
  {
   "cell_type": "code",
   "execution_count": null,
   "metadata": {},
   "outputs": [],
   "source": []
  }
 ],
 "metadata": {
  "kernelspec": {
   "display_name": "venv",
   "language": "python",
   "name": "python3"
  },
  "language_info": {
   "codemirror_mode": {
    "name": "ipython",
    "version": 3
   },
   "file_extension": ".py",
   "mimetype": "text/x-python",
   "name": "python",
   "nbconvert_exporter": "python",
   "pygments_lexer": "ipython3",
   "version": "3.12.4"
  }
 },
 "nbformat": 4,
 "nbformat_minor": 2
}
